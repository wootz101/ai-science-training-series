{
 "cells": [
  {
   "cell_type": "markdown",
   "metadata": {},
   "source": [
    "# CIFAR-10 dataset classification with CNNs\n",
    "\n",
    "Author: Tanwi Mallick, adapting codes from Bethany Lusch, Prasanna Balprakash, Corey Adams, and Kyle Felker\n",
    "\n",
    "In this notebook, we'll continue the CIFAR-10 problem using the Keras API (as included in the TensorFlow library) and incorporating convolutional layers.\n",
    "\n",
    "First, the needed imports."
   ]
  },
  {
   "cell_type": "code",
   "execution_count": 1,
   "metadata": {},
   "outputs": [],
   "source": [
    "%matplotlib inline\n",
    "\n",
    "import tensorflow as tf\n",
    "\n",
    "import numpy\n",
    "import matplotlib.pyplot as plt\n",
    "import time"
   ]
  },
  {
   "cell_type": "markdown",
   "metadata": {},
   "source": [
    "## CIFAR-10 data set\n",
    "\n",
    "Again we'll load the cifar10 data set. CIFAR-10 dataset contains 32x32 color images from 10 classes: airplane, automobile, bird, cat, deer, dog, frog, horse, ship, truck. If you haven't downloaded it already, it could take a while."
   ]
  },
  {
   "cell_type": "code",
   "execution_count": 2,
   "metadata": {
    "scrolled": true
   },
   "outputs": [
    {
     "name": "stdout",
     "output_type": "stream",
     "text": [
      "Defaulting to user installation because normal site-packages is not writeable\n",
      "Requirement already satisfied: image-dataset-loader in /home/zwooten/.local/lib/python3.8/site-packages (0.0.0)\n",
      "Requirement already satisfied: numpy>=1.0.0 in /lus/theta-fs0/software/thetagpu/conda/2022-07-01/mconda3/lib/python3.8/site-packages (from image-dataset-loader) (1.23.0)\n",
      "Requirement already satisfied: imageio>=2.0.0 in /lus/theta-fs0/software/thetagpu/conda/2022-07-01/mconda3/lib/python3.8/site-packages (from image-dataset-loader) (2.19.3)\n",
      "Requirement already satisfied: pillow>=8.3.2 in /lus/theta-fs0/software/thetagpu/conda/2022-07-01/mconda3/lib/python3.8/site-packages (from imageio>=2.0.0->image-dataset-loader) (9.2.0)\n",
      "--2022-10-05 11:34:55--  https://s3.amazonaws.com/fast-ai-imageclas/cifar10.tgz\n",
      "Resolving proxy.tmi.alcf.anl.gov (proxy.tmi.alcf.anl.gov)... 10.236.1.189\n",
      "Connecting to proxy.tmi.alcf.anl.gov (proxy.tmi.alcf.anl.gov)|10.236.1.189|:3128... connected.\n",
      "Proxy request sent, awaiting response... 200 OK\n",
      "Length: 135107811 (129M) [application/x-tar]\n",
      "Saving to: ‘cifar10.tgz.6’\n",
      "\n",
      "cifar10.tgz.6       100%[===================>] 128.85M  52.7MB/s    in 2.4s    \n",
      "\n",
      "2022-10-05 11:34:58 (52.7 MB/s) - ‘cifar10.tgz.6’ saved [135107811/135107811]\n",
      "\n"
     ]
    }
   ],
   "source": [
    "!https_proxy=http://proxy.tmi.alcf.anl.gov:3128  pip install image-dataset-loader\n",
    "!https_proxy=http://proxy.tmi.alcf.anl.gov:3128  wget https://s3.amazonaws.com/fast-ai-imageclas/cifar10.tgz\n",
    "!tar -xf cifar10.tgz"
   ]
  },
  {
   "cell_type": "code",
   "execution_count": 3,
   "metadata": {},
   "outputs": [
    {
     "name": "stdout",
     "output_type": "stream",
     "text": [
      "\n",
      "CIFAR-10 data loaded: train: 50000 test: 10000\n",
      "X_train: (50000, 32, 32, 3)\n",
      "y_train: (50000,)\n"
     ]
    }
   ],
   "source": [
    "from image_dataset_loader import load\n",
    "(x_train, y_train), (x_test, y_test) = load('cifar10', ['train', 'test'])\n",
    "\n",
    "x_train = x_train.astype(numpy.float32)\n",
    "x_test  = x_test.astype(numpy.float32)\n",
    "\n",
    "x_train /= 255.\n",
    "x_test  /= 255.\n",
    "\n",
    "y_train = y_train.astype(numpy.int32)\n",
    "y_test  = y_test.astype(numpy.int32)\n",
    "\n",
    "print()\n",
    "print('CIFAR-10 data loaded: train:',len(x_train),'test:',len(x_test))\n",
    "print('X_train:', x_train.shape)\n",
    "print('y_train:', y_train.shape)"
   ]
  },
  {
   "cell_type": "code",
   "execution_count": 4,
   "metadata": {},
   "outputs": [],
   "source": [
    "#(x_train, y_train), (x_test, y_test) = tf.keras.datasets.cifar10.load_data()\n",
    "#x_train = x_train.astype(numpy.float32)\n",
    "#x_test  = x_test.astype(numpy.float32)\n",
    "\n",
    "#x_train /= 255.\n",
    "#x_test  /= 255.\n",
    "\n",
    "#y_train = y_train.astype(numpy.int32)\n",
    "#y_test  = y_test.astype(numpy.int32)"
   ]
  },
  {
   "cell_type": "markdown",
   "metadata": {},
   "source": [
    "This time we won't flatten the images. \n",
    "\n",
    "The training data (`X_train`) is a 3rd-order tensor of size (50000, 32, 32), i.e. it consists of 50000 images of size 32x32 pixels. \n",
    "\n",
    "`y_train` is a 50000-dimensional vector containing the correct classes ('airplane', 'automobile', 'bird', 'cat', 'deer', 'dog', 'frog', 'horse', 'ship', 'truck') for each training sample."
   ]
  },
  {
   "cell_type": "markdown",
   "metadata": {},
   "source": [
    "## Convolutional neural network (CNN)\n",
    "\n",
    "CNN is a type of deep learning model for processing data that has a grid pattern, such as images.\n",
    "\n",
    "Let's use a small model that includes convolutional layers\n",
    "\n",
    "- The Conv2D layers operate on 2D matrices so we input the digit images directly to the model.\n",
    "    - The two Conv2D layers belows learn 32 and 64 filters respectively. \n",
    "    - They are learning filters for 3x3 windows.\n",
    "- The MaxPooling2D layer reduces the spatial dimensions, that is, makes the image smaller.\n",
    "    - It downsamples by taking the maximum value in the window \n",
    "    - The pool size of (2, 2) below means the windows are 2x2. \n",
    "    - Helps in extracting important features and reduce computation\n",
    "- The Flatten layer flattens the 2D matrices into vectors, so we can then switch to Dense layers as in the MLP model.\n",
    "\n",
    "See https://keras.io/layers/convolutional/, https://keras.io/layers/pooling/ for more information."
   ]
  },
  {
   "cell_type": "markdown",
   "metadata": {},
   "source": [
    "![conv layer](images/conv_layer.png)\n",
    "Image credit: [Jason Brownlee](https://machinelearningmastery.com/convolutional-layers-for-deep-learning-neural-networks/)"
   ]
  },
  {
   "cell_type": "markdown",
   "metadata": {},
   "source": [
    "![conv layer](images/conv.png)\n",
    "Image credit: [Anh H. Reynolds](https://anhreynolds.com/blogs/cnn.html)"
   ]
  },
  {
   "cell_type": "markdown",
   "metadata": {},
   "source": [
    "\n",
    "<img src=\"images/MaxpoolSample2.png\" width=\"600\" hight=\"600\" align=\"left\"/>"
   ]
  },
  {
   "cell_type": "code",
   "execution_count": 5,
   "metadata": {},
   "outputs": [],
   "source": [
    "class CIFAR10Classifier(tf.keras.models.Model):\n",
    "\n",
    "    def __init__(self, activation=tf.nn.tanh):\n",
    "        tf.keras.models.Model.__init__(self)\n",
    "\n",
    "        self.conv_1 = tf.keras.layers.Conv2D(32, [3, 3], activation='relu')\n",
    "        self.conv_2 = tf.keras.layers.Conv2D(64, [3, 3], activation='relu')\n",
    "        self.pool_3 = tf.keras.layers.MaxPooling2D(pool_size=(2, 2))\n",
    "        self.drop_4 = tf.keras.layers.Dropout(0.25)\n",
    "        self.dense_5 = tf.keras.layers.Dense(128, activation='relu')\n",
    "        self.drop_6 = tf.keras.layers.Dropout(0.5)\n",
    "        self.dense_7 = tf.keras.layers.Dense(10, activation='softmax')\n",
    "\n",
    "    def call(self, inputs):\n",
    "\n",
    "        x = self.conv_1(inputs)\n",
    "        x = self.conv_2(x)\n",
    "        x = self.pool_3(x)\n",
    "        x = self.drop_4(x)\n",
    "        x = tf.keras.layers.Flatten()(x)\n",
    "        x = self.dense_5(x)\n",
    "        x = self.drop_6(x)\n",
    "        x = self.dense_7(x)\n",
    "\n",
    "        return x"
   ]
  },
  {
   "cell_type": "markdown",
   "metadata": {},
   "source": [
    "### Simple training"
   ]
  },
  {
   "cell_type": "markdown",
   "metadata": {},
   "source": [
    "Here is a concise way to train the network, like we did in the previous notebook. We'll see a more verbose approach below that allows more performance tuning."
   ]
  },
  {
   "cell_type": "code",
   "execution_count": 6,
   "metadata": {},
   "outputs": [],
   "source": [
    "def train_network_concise(_batch_size, _n_training_epochs, _lr):\n",
    "\n",
    "    cnn_model = CIFAR10Classifier()\n",
    "\n",
    "    cnn_model.compile(loss=\"sparse_categorical_crossentropy\", optimizer=\"adam\", metrics=['accuracy'])\n",
    "    \n",
    "    history = cnn_model.fit(x_train, y_train, batch_size=_batch_size, epochs=_n_training_epochs)\n",
    "    return history, cnn_model"
   ]
  },
  {
   "cell_type": "code",
   "execution_count": 7,
   "metadata": {},
   "outputs": [
    {
     "name": "stdout",
     "output_type": "stream",
     "text": [
      "Epoch 1/3\n",
      "98/98 [==============================] - 3s 9ms/step - loss: 1.8141 - accuracy: 0.3410\n",
      "Epoch 2/3\n",
      "98/98 [==============================] - 1s 7ms/step - loss: 1.4499 - accuracy: 0.4795\n",
      "Epoch 3/3\n",
      "98/98 [==============================] - 1s 7ms/step - loss: 1.3270 - accuracy: 0.5290\n"
     ]
    }
   ],
   "source": [
    "# This took 55 seconds per epoch on my laptop\n",
    "batch_size = 512\n",
    "epochs = 3\n",
    "lr = .01\n",
    "history, cnn_model = train_network_concise(batch_size, epochs, lr)"
   ]
  },
  {
   "cell_type": "markdown",
   "metadata": {},
   "source": [
    "Accuracy for test data.  The model should be better than the non-convolutional model even if you're only patient enough for three epochs. "
   ]
  },
  {
   "cell_type": "code",
   "execution_count": 8,
   "metadata": {},
   "outputs": [
    {
     "data": {
      "image/png": "[encoded data removed]",
      "text/plain": [
       "<Figure size 360x216 with 1 Axes>"
      ]
     },
     "metadata": {
      "needs_background": "light"
     },
     "output_type": "display_data"
    },
    {
     "data": {
      "image/png": "[encoded data removed]",
      "text/plain": [
       "<Figure size 360x216 with 1 Axes>"
      ]
     },
     "metadata": {
      "needs_background": "light"
     },
     "output_type": "display_data"
    }
   ],
   "source": [
    "plt.figure(figsize=(5,3))\n",
    "plt.plot(history.epoch,history.history['loss'])\n",
    "plt.title('loss')\n",
    "\n",
    "plt.figure(figsize=(5,3))\n",
    "plt.plot(history.epoch,history.history['accuracy'])\n",
    "plt.title('accuracy');"
   ]
  },
  {
   "cell_type": "markdown",
   "metadata": {},
   "source": [
    "### Inference"
   ]
  },
  {
   "cell_type": "markdown",
   "metadata": {},
   "source": [
    "With enough training epochs, the test accuracy should exceed 99%.\n",
    "\n",
    "You can compare your result with the state-of-the art [here](http://rodrigob.github.io/are_we_there_yet/build/classification_datasets_results.html). Even more results can be found [here](http://yann.lecun.com/exdb/mnist/)."
   ]
  },
  {
   "cell_type": "code",
   "execution_count": 9,
   "metadata": {},
   "outputs": [
    {
     "name": "stdout",
     "output_type": "stream",
     "text": [
      "313/313 - 1s - loss: 1.1532 - accuracy: 0.6010 - 521ms/epoch - 2ms/step\n",
      "accuracy: 60.10%\n",
      "CPU times: user 806 ms, sys: 77.4 ms, total: 883 ms\n",
      "Wall time: 635 ms\n"
     ]
    }
   ],
   "source": [
    "%%time\n",
    "x_test_reshaped = numpy.expand_dims(x_test, -1)\n",
    "scores = cnn_model.evaluate(x_test, y_test, verbose=2)\n",
    "print(\"%s: %.2f%%\" % (cnn_model.metrics_names[1], scores[1]*100))"
   ]
  },
  {
   "cell_type": "markdown",
   "metadata": {},
   "source": [
    "We can also again check the confusion matrix"
   ]
  },
  {
   "cell_type": "code",
   "execution_count": 10,
   "metadata": {},
   "outputs": [
    {
     "name": "stdout",
     "output_type": "stream",
     "text": [
      "Confusion matrix (rows: true classes; columns: predicted classes):\n",
      "\n",
      "313/313 [==============================] - 0s 858us/step\n",
      "[[679  16  72  32  15  13  13  18  73  69]\n",
      " [ 43 619  11  14   4   5   9  17  44 234]\n",
      " [ 83   5 413  77 108 150  75  56  11  22]\n",
      " [ 18   4  61 380  57 299  85  57   9  30]\n",
      " [ 35   4 117  76 439  79  86 151   6   7]\n",
      " [ 15   1  59 151  40 626  16  77   5  10]\n",
      " [  5   4  47  84  65  36 708  26   6  19]\n",
      " [ 15   0  29  48  43 110   8 716   4  27]\n",
      " [142  46  23  34   1  14   9  14 661  56]\n",
      " [ 43  55  10  24   4  14  12  32  37 769]]\n",
      "\n",
      "Classification accuracy for each class:\n",
      "\n",
      "0: 0.6790\n",
      "1: 0.6190\n",
      "2: 0.4130\n",
      "3: 0.3800\n",
      "4: 0.4390\n",
      "5: 0.6260\n",
      "6: 0.7080\n",
      "7: 0.7160\n",
      "8: 0.6610\n",
      "9: 0.7690\n"
     ]
    }
   ],
   "source": [
    "from sklearn.metrics import confusion_matrix\n",
    "\n",
    "print('Confusion matrix (rows: true classes; columns: predicted classes):'); print()\n",
    "predictions = cnn_model.predict(x_test)\n",
    "cm=confusion_matrix(y_test, numpy.argmax(predictions, axis=1), labels=list(range(10)))\n",
    "print(cm); print()\n",
    "\n",
    "print('Classification accuracy for each class:'); print()\n",
    "for i,j in enumerate(cm.diagonal()/cm.sum(axis=1)): print(\"%d: %.4f\" % (i,j))"
   ]
  },
  {
   "cell_type": "markdown",
   "metadata": {},
   "source": [
    "### More verbose training"
   ]
  },
  {
   "cell_type": "markdown",
   "metadata": {},
   "source": [
    "This approach explicitly handles the looping over data. It will be helpful this afternoon for diving in and optimizing"
   ]
  },
  {
   "cell_type": "code",
   "execution_count": 11,
   "metadata": {},
   "outputs": [],
   "source": [
    "def compute_loss(y_true, y_pred):\n",
    "    # if labels are integers, use sparse categorical crossentropy\n",
    "    # network's final layer is softmax, so from_logtis=False\n",
    "    scce = tf.keras.losses.SparseCategoricalCrossentropy(from_logits=False)\n",
    "    # if labels are one-hot encoded, use standard crossentropy\n",
    "\n",
    "    return scce(y_true, y_pred)  "
   ]
  },
  {
   "cell_type": "code",
   "execution_count": 12,
   "metadata": {},
   "outputs": [],
   "source": [
    "def forward_pass(model, batch_data, y_true):\n",
    "    y_pred = model(batch_data)\n",
    "    loss = compute_loss(y_true, y_pred)\n",
    "    return loss"
   ]
  },
  {
   "cell_type": "code",
   "execution_count": 13,
   "metadata": {},
   "outputs": [],
   "source": [
    "# Here is a function that will manage the training loop for us:\n",
    "\n",
    "def train_loop(batch_size, n_training_epochs, model, opt):\n",
    "    \n",
    "    @tf.function()\n",
    "    def train_iteration(data, y_true, model, opt):\n",
    "        with tf.GradientTape() as tape:\n",
    "            loss = forward_pass(model, data, y_true)\n",
    "\n",
    "        trainable_vars = model.trainable_variables\n",
    "\n",
    "        # Apply the update to the network (one at a time):\n",
    "        grads = tape.gradient(loss, trainable_vars)\n",
    "\n",
    "        opt.apply_gradients(zip(grads, trainable_vars))\n",
    "        return loss\n",
    "\n",
    "    for i_epoch in range(n_training_epochs):\n",
    "        print(\"beginning epoch %d\" % i_epoch)\n",
    "        start = time.time()\n",
    "\n",
    "        epoch_steps = int(50000/batch_size)\n",
    "        dataset.shuffle(50000) # Shuffle the whole dataset in memory\n",
    "        batches = dataset.batch(batch_size=batch_size, drop_remainder=True)\n",
    "        \n",
    "        for i_batch, (batch_data, y_true) in enumerate(batches):\n",
    "            batch_data = tf.reshape(batch_data, [-1, 32, 32, 3])\n",
    "            loss = train_iteration(batch_data, y_true, model, opt)\n",
    "            \n",
    "        end = time.time()\n",
    "        print(\"took %1.1f seconds for epoch #%d\" % (end-start, i_epoch))"
   ]
  },
  {
   "cell_type": "code",
   "execution_count": 14,
   "metadata": {},
   "outputs": [],
   "source": [
    "def train_network(_batch_size, _n_training_epochs, _lr):\n",
    "\n",
    "    mnist_model = CIFAR10Classifier()\n",
    "\n",
    "    opt = tf.keras.optimizers.Adam(_lr)\n",
    "\n",
    "    train_loop(_batch_size, _n_training_epochs, mnist_model, opt)"
   ]
  },
  {
   "cell_type": "code",
   "execution_count": 15,
   "metadata": {},
   "outputs": [
    {
     "name": "stdout",
     "output_type": "stream",
     "text": [
      "beginning epoch 0\n",
      "took 1.1 seconds for epoch #0\n",
      "beginning epoch 1\n",
      "took 0.9 seconds for epoch #1\n",
      "beginning epoch 2\n",
      "took 0.9 seconds for epoch #2\n"
     ]
    }
   ],
   "source": [
    "dataset = tf.data.Dataset.from_tensor_slices((x_train, y_train))\n",
    "dataset.shuffle(50000)\n",
    "\n",
    "batch_size = 512\n",
    "epochs = 3\n",
    "lr = .01\n",
    "train_network(batch_size, epochs, lr)"
   ]
  },
  {
   "cell_type": "markdown",
   "metadata": {},
   "source": [
    "# Homework: improve the accuracy of this model"
   ]
  },
  {
   "cell_type": "markdown",
   "metadata": {},
   "source": [
    "Update this notebook to ensure more accuracy. How high can it be raised? Changes like increasing the number of epochs, altering the learning weight, altering the number of neurons the hidden layer, chnaging the optimizer, etc. could be made directly in the notebook. You can also change the model specification by expanding the network's layer. The current notebook's training accuracy is roughly 58.69%, although it varies randomly."
   ]
  },
  {
   "cell_type": "code",
   "execution_count": 20,
   "metadata": {},
   "outputs": [
    {
     "name": "stdout",
     "output_type": "stream",
     "text": [
      "Epoch 1/50\n",
      "49/49 [==============================] - 2s 22ms/step - loss: 2.2339 - accuracy: 0.1423\n",
      "Epoch 2/50\n",
      "49/49 [==============================] - 1s 16ms/step - loss: 1.8322 - accuracy: 0.2595\n",
      "Epoch 3/50\n",
      "49/49 [==============================] - 1s 16ms/step - loss: 1.6196 - accuracy: 0.3674\n",
      "Epoch 4/50\n",
      "49/49 [==============================] - 1s 16ms/step - loss: 1.4208 - accuracy: 0.4745\n",
      "Epoch 5/50\n",
      "49/49 [==============================] - 1s 16ms/step - loss: 1.2724 - accuracy: 0.5392\n",
      "Epoch 6/50\n",
      "49/49 [==============================] - 1s 16ms/step - loss: 1.1499 - accuracy: 0.5889\n",
      "Epoch 7/50\n",
      "49/49 [==============================] - 1s 16ms/step - loss: 1.0594 - accuracy: 0.6210\n",
      "Epoch 8/50\n",
      "49/49 [==============================] - 1s 16ms/step - loss: 0.9832 - accuracy: 0.6514\n",
      "Epoch 9/50\n",
      "49/49 [==============================] - 1s 16ms/step - loss: 0.9105 - accuracy: 0.6786\n",
      "Epoch 10/50\n",
      "49/49 [==============================] - 1s 16ms/step - loss: 0.8554 - accuracy: 0.7007\n",
      "Epoch 11/50\n",
      "49/49 [==============================] - 1s 16ms/step - loss: 0.8053 - accuracy: 0.7177\n",
      "Epoch 12/50\n",
      "49/49 [==============================] - 1s 16ms/step - loss: 0.7472 - accuracy: 0.7415\n",
      "Epoch 13/50\n",
      "49/49 [==============================] - 1s 16ms/step - loss: 0.7095 - accuracy: 0.7529\n",
      "Epoch 14/50\n",
      "49/49 [==============================] - 1s 16ms/step - loss: 0.6631 - accuracy: 0.7690\n",
      "Epoch 15/50\n",
      "49/49 [==============================] - 1s 16ms/step - loss: 0.6235 - accuracy: 0.7821\n",
      "Epoch 16/50\n",
      "49/49 [==============================] - 1s 16ms/step - loss: 0.5967 - accuracy: 0.7943\n",
      "Epoch 17/50\n",
      "49/49 [==============================] - 1s 16ms/step - loss: 0.5677 - accuracy: 0.8054\n",
      "Epoch 18/50\n",
      "49/49 [==============================] - 1s 16ms/step - loss: 0.5336 - accuracy: 0.8146\n",
      "Epoch 19/50\n",
      "49/49 [==============================] - 1s 16ms/step - loss: 0.5157 - accuracy: 0.8219\n",
      "Epoch 20/50\n",
      "49/49 [==============================] - 1s 16ms/step - loss: 0.4942 - accuracy: 0.8277\n",
      "Epoch 21/50\n",
      "49/49 [==============================] - 1s 16ms/step - loss: 0.4865 - accuracy: 0.8335\n",
      "Epoch 22/50\n",
      "49/49 [==============================] - 1s 18ms/step - loss: 0.4515 - accuracy: 0.8449\n",
      "Epoch 23/50\n",
      "49/49 [==============================] - 1s 16ms/step - loss: 0.4373 - accuracy: 0.8521\n",
      "Epoch 24/50\n",
      "49/49 [==============================] - 1s 16ms/step - loss: 0.4237 - accuracy: 0.8567\n",
      "Epoch 25/50\n",
      "49/49 [==============================] - 1s 16ms/step - loss: 0.4014 - accuracy: 0.8620\n",
      "Epoch 26/50\n",
      "49/49 [==============================] - 1s 16ms/step - loss: 0.3922 - accuracy: 0.8665\n",
      "Epoch 27/50\n",
      "49/49 [==============================] - 1s 16ms/step - loss: 0.3797 - accuracy: 0.8716\n",
      "Epoch 28/50\n",
      "49/49 [==============================] - 1s 16ms/step - loss: 0.3691 - accuracy: 0.8762\n",
      "Epoch 29/50\n",
      "49/49 [==============================] - 1s 16ms/step - loss: 0.3553 - accuracy: 0.8804\n",
      "Epoch 30/50\n",
      "49/49 [==============================] - 1s 16ms/step - loss: 0.3348 - accuracy: 0.8876\n",
      "Epoch 31/50\n",
      "49/49 [==============================] - 1s 16ms/step - loss: 0.3308 - accuracy: 0.8898\n",
      "Epoch 32/50\n",
      "49/49 [==============================] - 1s 16ms/step - loss: 0.3253 - accuracy: 0.8924\n",
      "Epoch 33/50\n",
      "49/49 [==============================] - 1s 16ms/step - loss: 0.3097 - accuracy: 0.8963\n",
      "Epoch 34/50\n",
      "49/49 [==============================] - 1s 16ms/step - loss: 0.3109 - accuracy: 0.8972\n",
      "Epoch 35/50\n",
      "49/49 [==============================] - 1s 16ms/step - loss: 0.3014 - accuracy: 0.8990\n",
      "Epoch 36/50\n",
      "49/49 [==============================] - 1s 16ms/step - loss: 0.2996 - accuracy: 0.9013\n",
      "Epoch 37/50\n",
      "49/49 [==============================] - 1s 16ms/step - loss: 0.2900 - accuracy: 0.9029\n",
      "Epoch 38/50\n",
      "49/49 [==============================] - 1s 16ms/step - loss: 0.2807 - accuracy: 0.9061\n",
      "Epoch 39/50\n",
      "49/49 [==============================] - 1s 16ms/step - loss: 0.2791 - accuracy: 0.9078\n",
      "Epoch 40/50\n",
      "49/49 [==============================] - 1s 16ms/step - loss: 0.2653 - accuracy: 0.9136\n",
      "Epoch 41/50\n",
      "49/49 [==============================] - 1s 16ms/step - loss: 0.2664 - accuracy: 0.9105\n",
      "Epoch 42/50\n",
      "49/49 [==============================] - 1s 16ms/step - loss: 0.2505 - accuracy: 0.9168\n",
      "Epoch 43/50\n",
      "49/49 [==============================] - 1s 16ms/step - loss: 0.2462 - accuracy: 0.9205\n",
      "Epoch 44/50\n",
      "49/49 [==============================] - 1s 16ms/step - loss: 0.2482 - accuracy: 0.9174\n",
      "Epoch 45/50\n",
      "49/49 [==============================] - 1s 16ms/step - loss: 0.2400 - accuracy: 0.9210\n",
      "Epoch 46/50\n",
      "49/49 [==============================] - 1s 16ms/step - loss: 0.2355 - accuracy: 0.9233\n",
      "Epoch 47/50\n",
      "49/49 [==============================] - 1s 16ms/step - loss: 0.2374 - accuracy: 0.9226\n",
      "Epoch 48/50\n",
      "49/49 [==============================] - 1s 16ms/step - loss: 0.2303 - accuracy: 0.9239\n",
      "Epoch 49/50\n",
      "49/49 [==============================] - 1s 16ms/step - loss: 0.2282 - accuracy: 0.9271\n",
      "Epoch 50/50\n",
      "49/49 [==============================] - 1s 16ms/step - loss: 0.2240 - accuracy: 0.9256\n"
     ]
    }
   ],
   "source": [
    "# Update by adding a less complex dense layer for MLP learning\n",
    "\n",
    "class Updated_CIFAR10Classifier(tf.keras.models.Model):\n",
    "\n",
    "    def __init__(self, activation=tf.nn.tanh):\n",
    "        tf.keras.models.Model.__init__(self)\n",
    "\n",
    "        self.conv_1 = tf.keras.layers.Conv2D(32, [3, 3], activation='relu')\n",
    "        self.conv_2 = tf.keras.layers.Conv2D(64, [3, 3], activation='relu')\n",
    "        self.pool_3 = tf.keras.layers.MaxPooling2D(pool_size=(2, 2))\n",
    "        self.drop_4 = tf.keras.layers.Dropout(0.25)\n",
    "        self.dense_5 = tf.keras.layers.Dense(2048, activation='relu')\n",
    "        self.drop_6 = tf.keras.layers.Dropout(0.75)\n",
    "        self.dense_7 = tf.keras.layers.Dense(2048, activation='relu')\n",
    "        self.drop_8 = tf.keras.layers.Dropout(0.75)\n",
    "        self.dense_9 = tf.keras.layers.Dense(2048, activation='relu')\n",
    "        self.drop_10 = tf.keras.layers.Dropout(0.75)\n",
    "        self.dense_11 = tf.keras.layers.Dense(1024, activation='relu')\n",
    "        self.drop_12 = tf.keras.layers.Dropout(0.5)\n",
    "        \n",
    "        \n",
    "        self.dense_13 = tf.keras.layers.Dense(10, activation='softmax')\n",
    "\n",
    "    def call(self, inputs):\n",
    "\n",
    "        x = self.conv_1(inputs)\n",
    "        x = self.conv_2(x)\n",
    "        x = self.pool_3(x)\n",
    "        x = self.drop_4(x)\n",
    "        x = tf.keras.layers.Flatten()(x)\n",
    "        x = self.dense_5(x)\n",
    "        x = self.drop_6(x)\n",
    "        x = self.dense_7(x)\n",
    "        x = self.drop_8(x)\n",
    "        x = self.dense_9(x)\n",
    "        x = self.drop_10(x)\n",
    "        x = self.dense_11(x)\n",
    "        x = self.drop_12(x)\n",
    "        \n",
    "        x = self.dense_13(x)\n",
    "\n",
    "        return x\n",
    "\n",
    "\n",
    "\n",
    "def train_network_concise(_batch_size, _n_training_epochs, _lr):\n",
    "\n",
    "    cnn_model = Updated_CIFAR10Classifier()\n",
    "\n",
    "    cnn_model.compile(loss=\"sparse_categorical_crossentropy\", optimizer=\"adam\", metrics=['accuracy'])\n",
    "    \n",
    "    history = cnn_model.fit(x_train, y_train, batch_size=_batch_size, epochs=_n_training_epochs)\n",
    "    return history, cnn_model\n",
    "\n",
    "\n",
    "\n",
    "# This took 55 seconds per epoch on my laptop\n",
    "batch_size = 2**10\n",
    "epochs = 50\n",
    "lr = .005\n",
    "history, cnn_model = train_network_concise(batch_size, epochs, lr)\n",
    "\n"
   ]
  },
  {
   "cell_type": "code",
   "execution_count": 21,
   "metadata": {},
   "outputs": [
    {
     "data": {
      "image/png": "[encoded data removed]",
      "text/plain": [
       "<Figure size 360x216 with 1 Axes>"
      ]
     },
     "metadata": {
      "needs_background": "light"
     },
     "output_type": "display_data"
    },
    {
     "data": {
      "image/png": "[encoded data removed]",
      "text/plain": [
       "<Figure size 360x216 with 1 Axes>"
      ]
     },
     "metadata": {
      "needs_background": "light"
     },
     "output_type": "display_data"
    }
   ],
   "source": [
    "plt.figure(figsize=(5,3))\n",
    "plt.plot(history.epoch,history.history['loss'])\n",
    "plt.title('loss')\n",
    "\n",
    "plt.figure(figsize=(5,3))\n",
    "plt.plot(history.epoch,history.history['accuracy'], 'r')\n",
    "plt.title('accuracy');"
   ]
  },
  {
   "cell_type": "code",
   "execution_count": 22,
   "metadata": {},
   "outputs": [
    {
     "name": "stdout",
     "output_type": "stream",
     "text": [
      "313/313 - 0s - loss: 1.0212 - accuracy: 0.7293 - 496ms/epoch - 2ms/step\n",
      "accuracy: 72.93%\n"
     ]
    }
   ],
   "source": [
    "# Get Accuracy on test set.\n",
    "\n",
    "#%%time\n",
    "x_test_reshaped = numpy.expand_dims(x_test, -1)\n",
    "scores = cnn_model.evaluate(x_test, y_test, verbose=2)\n",
    "print(\"%s: %.2f%%\" % (cnn_model.metrics_names[1], scores[1]*100))"
   ]
  },
  {
   "cell_type": "code",
   "execution_count": 23,
   "metadata": {},
   "outputs": [
    {
     "name": "stdout",
     "output_type": "stream",
     "text": [
      "Confusion matrix (rows: true classes; columns: predicted classes):\n",
      "\n",
      "313/313 [==============================] - 0s 979us/step\n",
      "[[739  22  63  29  28   6   9  10  66  28]\n",
      " [  9 861   6  14   2   2   9   1  16  80]\n",
      " [ 53   4 581  62 139  74  55  17  14   1]\n",
      " [ 11   8  70 559 104 149  65  17   8   9]\n",
      " [ 13   2  43  63 775  22  38  36   7   1]\n",
      " [  8   2  49 193  75 619  20  26   5   3]\n",
      " [  3   5  29  65  60  23 813   0   1   1]\n",
      " [  9   2  27  46 110  69   8 725   0   4]\n",
      " [ 48  45  19  21  12   1   5   1 827  21]\n",
      " [ 22  80   4  40  11   3   6  12  28 794]]\n",
      "\n",
      "Classification accuracy for each class:\n",
      "\n",
      "0: 0.7390\n",
      "1: 0.8610\n",
      "2: 0.5810\n",
      "3: 0.5590\n",
      "4: 0.7750\n",
      "5: 0.6190\n",
      "6: 0.8130\n",
      "7: 0.7250\n",
      "8: 0.8270\n",
      "9: 0.7940\n"
     ]
    }
   ],
   "source": [
    "# Get Confusion MAtrix\n",
    "\n",
    "print('Confusion matrix (rows: true classes; columns: predicted classes):'); print()\n",
    "predictions = cnn_model.predict(x_test)\n",
    "cm=confusion_matrix(y_test, numpy.argmax(predictions, axis=1), labels=list(range(10)))\n",
    "print(cm); print()\n",
    "\n",
    "print('Classification accuracy for each class:'); print()\n",
    "for i,j in enumerate(cm.diagonal()/cm.sum(axis=1)): print(\"%d: %.4f\" % (i,j))"
   ]
  },
  {
   "cell_type": "code",
   "execution_count": null,
   "metadata": {},
   "outputs": [],
   "source": [
    "# can't get a test accuracy above 75%, even though the training accuracy can be above 95%.\n",
    "# Hence I conlcude the current CNN model is overfitting the training data"
   ]
  }
 ],
 "metadata": {
  "kernelspec": {
   "display_name": "conda/2022-07-01",
   "language": "python",
   "name": "conda-2022-07-01"
  },
  "language_info": {
   "codemirror_mode": {
    "name": "ipython",
    "version": 3
   },
   "file_extension": ".py",
   "mimetype": "text/x-python",
   "name": "python",
   "nbconvert_exporter": "python",
   "pygments_lexer": "ipython3",
   "version": "3.8.13"
  }
 },
 "nbformat": 4,
 "nbformat_minor": 4
}
